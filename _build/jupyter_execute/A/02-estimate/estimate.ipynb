{
 "cells": [
  {
   "cell_type": "code",
   "execution_count": null,
   "metadata": {},
   "outputs": [],
   "source": []
  },
  {
   "attachments": {},
   "cell_type": "markdown",
   "metadata": {},
   "source": [
    "# Estimate Notebook"
   ]
  },
  {
   "attachments": {},
   "cell_type": "markdown",
   "metadata": {},
   "source": [
    "Lenders and estimates may use differnt categories. \n",
    "As you estimate, it's helpful to assign numbers to categories - possibly using different a different organization. \n",
    "\n",
    "As an example, we'll use one breakdown for lender A.\n",
    "\n",
    "Each category has a code and a description. "
   ]
  },
  {
   "cell_type": "code",
   "execution_count": 1,
   "metadata": {},
   "outputs": [
    {
     "data": {
      "text/plain": [
       "'GRADING BACKFILL'"
      ]
     },
     "execution_count": 1,
     "metadata": {},
     "output_type": "execute_result"
    }
   ],
   "source": [
    "categoryID_A = [1, 2, 3, 4, 5, 6, 7, 8, 9, 10,\n",
    "         11, 12, 13, 14, 15, 16, 17, 18, 19, 20,\n",
    "         21, 22, 23, 24, 25, 26, 27, 28, 29, 30,\n",
    "         31, 32, 33, 34, 35, 36, 37, 38, 39, 40,\n",
    "         41, 42, 43, 44, 45, 46, 47]\n",
    "categoryDescription_A = ['SURVEY, BUILDING PERMIT', 'ARCHITECTURAL SERVICES', 'CLEARING BUILDING SITE',\n",
    "                'EXCAVATING, FILLING', 'GRADING BACKFILL', 'FOUNDATION', 'WATER, GAS, SEWER CONNECTIONS',\n",
    "                'WELL, PUMP & SEPTIC SYSTEM', 'CONCRETE', 'BLOCK', 'WATER PROOFING', 'CONCRETE WORK',\n",
    "                'ROOFING', 'STRUCTURAL STEEL', 'LAMINATED UNITS, TRUSSES', 'BRICKWORK, CHIMNEY, FIREPLACE',\n",
    "                'WINDOWS AND EXT. DOORS', 'LUMBER', 'ROOFING MATERIAL', 'WOOD FLOORING', 'INSULATION',\n",
    "                'HARDWARE', 'MILLWORK, TRIM, WINDOWS', 'CABINET WORK, CABINETS & COUNTERTOPS',\n",
    "                'SIDING, DECK, RAILINGS', 'PLUMBING, ROUGH IN', 'PLUMBING MATERIALS',\n",
    "                'HEATING/AIR CONDITIONING', 'ELECTRIC WIRING', 'ELECTRIC FIXTURES', 'DRYWALL/MATERIALS',\n",
    "                'DRYWALL TAPING', 'PAINTING INTERIOR, DECORATING', 'PAINTING EXTERIOR', 'TILEWORK, CERAMIC, PLASTIC',\n",
    "                'LINOLEUM, FLOOR TILE', 'CARPETING', 'GARAGE DOORS', 'APPLIANCES', 'BLACKTOP/DRIVEWAY',\n",
    "                'LANDSCAPING/SOD', 'Equipment', 'CONTRACTOR FEES/PROJECT MNGT', 'RISK INS., CLEANING, TEMP UTILITIES',\n",
    "                'Contingency', 'Construction of Building', 'Closing costs']\n",
    "\n",
    "categoriesDict_A = {categoryID_A[i]: categoryDescription_A[i] for i in range(len(categoryID_A))}\n",
    "categoriesDict_A[5]  # Returns 'GRADING BACKFILL'\n"
   ]
  }
 ],
 "metadata": {
  "language_info": {
   "codemirror_mode": {
    "name": "ipython",
    "version": 3
   },
   "file_extension": ".py",
   "mimetype": "text/x-python",
   "name": "python",
   "nbconvert_exporter": "python",
   "pygments_lexer": "ipython3",
   "version": "3.10.10"
  }
 },
 "nbformat": 4,
 "nbformat_minor": 2
}